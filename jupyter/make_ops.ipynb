{
 "cells": [
  {
   "cell_type": "code",
   "execution_count": 2,
   "metadata": {},
   "outputs": [],
   "source": [
    "import numpy as np\n",
    "import sys\n",
    "sys.path.insert(0, 'C:/Users/carse/github/suite2p/')\n",
    "from suite2p import run_s2p\n",
    "\n",
    "ops = run_s2p.default_ops()\n",
    "\n",
    "np.save('../suite2p/ops/ops.npy', ops)"
   ]
  },
  {
   "cell_type": "code",
   "execution_count": 4,
   "metadata": {},
   "outputs": [],
   "source": [
    "import numpy as np\n",
    "\n",
    "ops = run_s2p.default_ops()\n",
    "\n",
    "ops['1Preg'] = True\n",
    "ops['smooth_sigma'] = 6\n",
    "ops['high_pass'] = 6\n",
    "ops['sparse_mode'] = True\n",
    "ops['maxregshiftNR'] = 8\n",
    "\n",
    "np.save('../suite2p/ops/ops_1P.npy', ops)"
   ]
  },
  {
   "cell_type": "code",
   "execution_count": 6,
   "metadata": {},
   "outputs": [],
   "source": [
    "import numpy as np\n",
    "\n",
    "ops = run_s2p.default_ops()\n",
    "\n",
    "ops['connected'] = True\n",
    "ops['allow_overlap'] = True\n",
    "ops['max_overlap'] = 1.0\n",
    "\n",
    "np.save('../suite2p/ops/ops_dendrite.npy', ops)"
   ]
  },
  {
   "cell_type": "code",
   "execution_count": null,
   "metadata": {},
   "outputs": [],
   "source": [
    "\n",
    "import numpy as np\n",
    "import matplotlib.pyplot as plt\n",
    "%matplotlib inline\n",
    "\n",
    "x = np.random.rand(50,50)\n",
    "\n",
    "# broadcasted indices (get a square)\n",
    "plt.imshow(x[10:20, 10:20])\n",
    "\n",
    "# list indices (get *10* numbers not a 10x10)\n",
    "plt.imshow(x[np.arange(10,20,1,int), np.arange(10,20,1,int)])"
   ]
  },
  {
   "cell_type": "code",
   "execution_count": null,
   "metadata": {},
   "outputs": [],
   "source": [
    "x.shape"
   ]
  }
 ],
 "metadata": {
  "kernelspec": {
   "display_name": "Python 3",
   "language": "python",
   "name": "python3"
  }
 },
 "nbformat": 4,
 "nbformat_minor": 2
}
